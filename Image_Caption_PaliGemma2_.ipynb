{
 "cells": [
  {
   "cell_type": "code",
   "execution_count": null,
   "id": "aca2b7f8",
   "metadata": {
    "scrolled": true,
    "vscode": {
     "languageId": "plaintext"
    }
   },
   "outputs": [],
   "source": [
    "!pip install --upgrade pip\n",
    "!pip uninstall torch torchvision torchaudio -y\n",
    "!pip install torch torchvision torchaudio --index-url https://download.pytorch.org/whl/cu124\n",
    "!pip install transformers pillow accelerate"
   ]
  },
  {
   "cell_type": "code",
   "execution_count": null,
   "id": "9601c4f8-b4f6-44d8-8be5-cc2fdc15dfd6",
   "metadata": {},
   "outputs": [],
   "source": [
    "from huggingface_hub import login\n",
    "login(token=\"<HF_token>\")"
   ]
  },
  {
   "cell_type": "code",
   "execution_count": null,
   "id": "20be5777",
   "metadata": {},
   "outputs": [],
   "source": [
    "import torch\n",
    "\n",
    "from transformers import PaliGemmaProcessor, PaliGemmaForConditionalGeneration\n",
    "from PIL import Image"
   ]
  },
  {
   "cell_type": "code",
   "execution_count": null,
   "id": "a08e8536",
   "metadata": {},
   "outputs": [],
   "source": [
    "device = torch.device(\"cuda\" if torch.cuda.is_available() else \"cpu\")\n",
    "\n",
    "model_id = \"google/paligemma2-3b-pt-896\"\n",
    "processor = PaliGemmaProcessor.from_pretrained(model_id)\n",
    "model = PaliGemmaForConditionalGeneration.from_pretrained(model_id, torch_dtype=torch.bfloat16, device_map=\"auto\").to(device)\n",
    "model.eval()"
   ]
  },
  {
   "cell_type": "code",
   "execution_count": null,
   "id": "1c4954f2",
   "metadata": {},
   "outputs": [],
   "source": [
    "image_path = \"caption-image-here.jpg\"\n",
    "image = Image.open(image_path).convert(\"RGB\")"
   ]
  },
  {
   "cell_type": "code",
   "execution_count": null,
   "id": "c505ebef",
   "metadata": {},
   "outputs": [],
   "source": [
    "prompt = \"\"\n",
    "inputs = processor(text=prompt, images=image, return_tensors=\"pt\").to(device)\n",
    "\n",
    "input_length = inputs[\"input_ids\"].shape[-1]\n",
    "\n",
    "with torch.inference_mode():\n",
    "    generated_ids = model.generate(**inputs, max_new_tokens=100, do_sample=False)\n",
    "    caption_ids = generated_ids[0][input_length:]\n",
    "    caption = processor.decode(caption_ids, skip_special_tokens=True)\n",
    "\n",
    "print(\"CAPTION:\", caption)"
   ]
  }
 ],
 "metadata": {
  "kernelspec": {
   "display_name": "Python 3 (ipykernel)",
   "language": "python",
   "name": "python3"
  },
  "language_info": {
   "codemirror_mode": {
    "name": "ipython",
    "version": 3
   },
   "file_extension": ".py",
   "mimetype": "text/x-python",
   "name": "python",
   "nbconvert_exporter": "python",
   "pygments_lexer": "ipython3",
   "version": "3.11.10"
  }
 },
 "nbformat": 4,
 "nbformat_minor": 5
}
